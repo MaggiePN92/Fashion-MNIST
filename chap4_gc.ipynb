{
  "nbformat": 4,
  "nbformat_minor": 0,
  "metadata": {
    "colab": {
      "name": "chap4_gc.ipynb",
      "provenance": [],
      "collapsed_sections": [],
      "authorship_tag": "ABX9TyPFz6BVXWnm7BCadFvgpnCj",
      "include_colab_link": true
    },
    "kernelspec": {
      "name": "python3",
      "display_name": "Python 3"
    },
    "language_info": {
      "name": "python"
    },
    "accelerator": "GPU"
  },
  "cells": [
    {
      "cell_type": "markdown",
      "metadata": {
        "id": "view-in-github",
        "colab_type": "text"
      },
      "source": [
        "<a href=\"https://colab.research.google.com/github/MaggiePN92/Fashion-MNIST/blob/master/chap4_gc.ipynb\" target=\"_parent\"><img src=\"https://colab.research.google.com/assets/colab-badge.svg\" alt=\"Open In Colab\"/></a>"
      ]
    },
    {
      "cell_type": "code",
      "metadata": {
        "colab": {
          "base_uri": "https://localhost:8080/",
          "height": 1000
        },
        "id": "DFGwXfWbs3dt",
        "outputId": "f85745e9-ecdc-46c7-8b56-87bb20cdd15f"
      },
      "source": [
        "!pip install fastai --upgrade"
      ],
      "execution_count": 6,
      "outputs": [
        {
          "output_type": "stream",
          "text": [
            "Collecting fastai\n",
            "\u001b[?25l  Downloading https://files.pythonhosted.org/packages/79/50/0b81742909d433ef5b67b4417597b41cd37b38a073714bc83dc150c81b2f/fastai-2.2.7-py3-none-any.whl (193kB)\n",
            "\u001b[K     |████████████████████████████████| 194kB 5.8MB/s \n",
            "\u001b[?25hCollecting torch<1.8,>=1.7.0\n",
            "\u001b[?25l  Downloading https://files.pythonhosted.org/packages/90/5d/095ddddc91c8a769a68c791c019c5793f9c4456a688ddd235d6670924ecb/torch-1.7.1-cp37-cp37m-manylinux1_x86_64.whl (776.8MB)\n",
            "\u001b[K     |████████████████████████████████| 776.8MB 22kB/s \n",
            "\u001b[?25hRequirement already satisfied, skipping upgrade: pandas in /usr/local/lib/python3.7/dist-packages (from fastai) (1.1.5)\n",
            "Requirement already satisfied, skipping upgrade: fastprogress>=0.2.4 in /usr/local/lib/python3.7/dist-packages (from fastai) (1.0.0)\n",
            "Requirement already satisfied, skipping upgrade: pyyaml in /usr/local/lib/python3.7/dist-packages (from fastai) (3.13)\n",
            "Requirement already satisfied, skipping upgrade: packaging in /usr/local/lib/python3.7/dist-packages (from fastai) (20.9)\n",
            "Requirement already satisfied, skipping upgrade: requests in /usr/local/lib/python3.7/dist-packages (from fastai) (2.23.0)\n",
            "Collecting fastcore<1.4,>=1.3.8\n",
            "\u001b[?25l  Downloading https://files.pythonhosted.org/packages/0c/98/60404e2817cff113a6ae4023bc1772e23179408fdf7857fa410551758dfe/fastcore-1.3.19-py3-none-any.whl (53kB)\n",
            "\u001b[K     |████████████████████████████████| 61kB 106kB/s \n",
            "\u001b[?25hRequirement already satisfied, skipping upgrade: scikit-learn in /usr/local/lib/python3.7/dist-packages (from fastai) (0.22.2.post1)\n",
            "Collecting torchvision<0.9,>=0.8\n",
            "\u001b[?25l  Downloading https://files.pythonhosted.org/packages/94/df/969e69a94cff1c8911acb0688117f95e1915becc1e01c73e7960a2c76ec8/torchvision-0.8.2-cp37-cp37m-manylinux1_x86_64.whl (12.8MB)\n",
            "\u001b[K     |████████████████████████████████| 12.8MB 240kB/s \n",
            "\u001b[?25hRequirement already satisfied, skipping upgrade: pillow>6.0.0 in /usr/local/lib/python3.7/dist-packages (from fastai) (7.0.0)\n",
            "Requirement already satisfied, skipping upgrade: spacy<3 in /usr/local/lib/python3.7/dist-packages (from fastai) (2.2.4)\n",
            "Requirement already satisfied, skipping upgrade: scipy in /usr/local/lib/python3.7/dist-packages (from fastai) (1.4.1)\n",
            "Requirement already satisfied, skipping upgrade: matplotlib in /usr/local/lib/python3.7/dist-packages (from fastai) (3.2.2)\n",
            "Requirement already satisfied, skipping upgrade: pip in /usr/local/lib/python3.7/dist-packages (from fastai) (19.3.1)\n",
            "Requirement already satisfied, skipping upgrade: typing-extensions in /usr/local/lib/python3.7/dist-packages (from torch<1.8,>=1.7.0->fastai) (3.7.4.3)\n",
            "Requirement already satisfied, skipping upgrade: numpy in /usr/local/lib/python3.7/dist-packages (from torch<1.8,>=1.7.0->fastai) (1.19.5)\n",
            "Requirement already satisfied, skipping upgrade: python-dateutil>=2.7.3 in /usr/local/lib/python3.7/dist-packages (from pandas->fastai) (2.8.1)\n",
            "Requirement already satisfied, skipping upgrade: pytz>=2017.2 in /usr/local/lib/python3.7/dist-packages (from pandas->fastai) (2018.9)\n",
            "Requirement already satisfied, skipping upgrade: pyparsing>=2.0.2 in /usr/local/lib/python3.7/dist-packages (from packaging->fastai) (2.4.7)\n",
            "Requirement already satisfied, skipping upgrade: urllib3!=1.25.0,!=1.25.1,<1.26,>=1.21.1 in /usr/local/lib/python3.7/dist-packages (from requests->fastai) (1.24.3)\n",
            "Requirement already satisfied, skipping upgrade: certifi>=2017.4.17 in /usr/local/lib/python3.7/dist-packages (from requests->fastai) (2020.12.5)\n",
            "Requirement already satisfied, skipping upgrade: chardet<4,>=3.0.2 in /usr/local/lib/python3.7/dist-packages (from requests->fastai) (3.0.4)\n",
            "Requirement already satisfied, skipping upgrade: idna<3,>=2.5 in /usr/local/lib/python3.7/dist-packages (from requests->fastai) (2.10)\n",
            "Requirement already satisfied, skipping upgrade: joblib>=0.11 in /usr/local/lib/python3.7/dist-packages (from scikit-learn->fastai) (1.0.1)\n",
            "Requirement already satisfied, skipping upgrade: setuptools in /usr/local/lib/python3.7/dist-packages (from spacy<3->fastai) (54.1.2)\n",
            "Requirement already satisfied, skipping upgrade: cymem<2.1.0,>=2.0.2 in /usr/local/lib/python3.7/dist-packages (from spacy<3->fastai) (2.0.5)\n",
            "Requirement already satisfied, skipping upgrade: blis<0.5.0,>=0.4.0 in /usr/local/lib/python3.7/dist-packages (from spacy<3->fastai) (0.4.1)\n",
            "Requirement already satisfied, skipping upgrade: tqdm<5.0.0,>=4.38.0 in /usr/local/lib/python3.7/dist-packages (from spacy<3->fastai) (4.41.1)\n",
            "Requirement already satisfied, skipping upgrade: wasabi<1.1.0,>=0.4.0 in /usr/local/lib/python3.7/dist-packages (from spacy<3->fastai) (0.8.2)\n",
            "Requirement already satisfied, skipping upgrade: srsly<1.1.0,>=1.0.2 in /usr/local/lib/python3.7/dist-packages (from spacy<3->fastai) (1.0.5)\n",
            "Requirement already satisfied, skipping upgrade: plac<1.2.0,>=0.9.6 in /usr/local/lib/python3.7/dist-packages (from spacy<3->fastai) (1.1.3)\n",
            "Requirement already satisfied, skipping upgrade: catalogue<1.1.0,>=0.0.7 in /usr/local/lib/python3.7/dist-packages (from spacy<3->fastai) (1.0.0)\n",
            "Requirement already satisfied, skipping upgrade: preshed<3.1.0,>=3.0.2 in /usr/local/lib/python3.7/dist-packages (from spacy<3->fastai) (3.0.5)\n",
            "Requirement already satisfied, skipping upgrade: murmurhash<1.1.0,>=0.28.0 in /usr/local/lib/python3.7/dist-packages (from spacy<3->fastai) (1.0.5)\n",
            "Requirement already satisfied, skipping upgrade: thinc==7.4.0 in /usr/local/lib/python3.7/dist-packages (from spacy<3->fastai) (7.4.0)\n",
            "Requirement already satisfied, skipping upgrade: kiwisolver>=1.0.1 in /usr/local/lib/python3.7/dist-packages (from matplotlib->fastai) (1.3.1)\n",
            "Requirement already satisfied, skipping upgrade: cycler>=0.10 in /usr/local/lib/python3.7/dist-packages (from matplotlib->fastai) (0.10.0)\n",
            "Requirement already satisfied, skipping upgrade: six>=1.5 in /usr/local/lib/python3.7/dist-packages (from python-dateutil>=2.7.3->pandas->fastai) (1.15.0)\n",
            "Requirement already satisfied, skipping upgrade: importlib-metadata>=0.20; python_version < \"3.8\" in /usr/local/lib/python3.7/dist-packages (from catalogue<1.1.0,>=0.0.7->spacy<3->fastai) (3.7.2)\n",
            "Requirement already satisfied, skipping upgrade: zipp>=0.5 in /usr/local/lib/python3.7/dist-packages (from importlib-metadata>=0.20; python_version < \"3.8\"->catalogue<1.1.0,>=0.0.7->spacy<3->fastai) (3.4.1)\n",
            "\u001b[31mERROR: torchtext 0.9.0 has requirement torch==1.8.0, but you'll have torch 1.7.1 which is incompatible.\u001b[0m\n",
            "Installing collected packages: torch, fastcore, torchvision, fastai\n",
            "  Found existing installation: torch 1.8.0+cu101\n",
            "    Uninstalling torch-1.8.0+cu101:\n",
            "      Successfully uninstalled torch-1.8.0+cu101\n",
            "  Found existing installation: torchvision 0.9.0+cu101\n",
            "    Uninstalling torchvision-0.9.0+cu101:\n",
            "      Successfully uninstalled torchvision-0.9.0+cu101\n",
            "  Found existing installation: fastai 1.0.61\n",
            "    Uninstalling fastai-1.0.61:\n",
            "      Successfully uninstalled fastai-1.0.61\n",
            "Successfully installed fastai-2.2.7 fastcore-1.3.19 torch-1.7.1 torchvision-0.8.2\n"
          ],
          "name": "stdout"
        },
        {
          "output_type": "display_data",
          "data": {
            "application/vnd.colab-display-data+json": {
              "pip_warning": {
                "packages": [
                  "fastai",
                  "torch",
                  "torchvision"
                ]
              }
            }
          },
          "metadata": {
            "tags": []
          }
        }
      ]
    },
    {
      "cell_type": "code",
      "metadata": {
        "id": "YwLGQazltaCq"
      },
      "source": [
        "from fastai.vision.all import *"
      ],
      "execution_count": 1,
      "outputs": []
    },
    {
      "cell_type": "code",
      "metadata": {
        "colab": {
          "base_uri": "https://localhost:8080/",
          "height": 17
        },
        "id": "ckyyiRFTtcMF",
        "outputId": "24b7f7eb-d77a-4bd4-caf9-fcaf653ece4d"
      },
      "source": [
        "path = untar_data(URLs.MNIST_SAMPLE)"
      ],
      "execution_count": 2,
      "outputs": [
        {
          "output_type": "display_data",
          "data": {
            "text/html": [
              ""
            ],
            "text/plain": [
              "<IPython.core.display.HTML object>"
            ]
          },
          "metadata": {
            "tags": []
          }
        }
      ]
    },
    {
      "cell_type": "code",
      "metadata": {
        "colab": {
          "base_uri": "https://localhost:8080/"
        },
        "id": "39FfoRyLu_HX",
        "outputId": "8bd94b88-da3b-4675-8275-e0ecc3248ef6"
      },
      "source": [
        "path.ls()"
      ],
      "execution_count": 3,
      "outputs": [
        {
          "output_type": "execute_result",
          "data": {
            "text/plain": [
              "(#3) [Path('/root/.fastai/data/mnist_sample/valid'),Path('/root/.fastai/data/mnist_sample/train'),Path('/root/.fastai/data/mnist_sample/labels.csv')]"
            ]
          },
          "metadata": {
            "tags": []
          },
          "execution_count": 3
        }
      ]
    },
    {
      "cell_type": "code",
      "metadata": {
        "colab": {
          "base_uri": "https://localhost:8080/"
        },
        "id": "jYgyRG6KvBPo",
        "outputId": "4bb86270-58e2-4a9f-8753-83f8962238c0"
      },
      "source": [
        "(path/'train').ls()"
      ],
      "execution_count": 4,
      "outputs": [
        {
          "output_type": "execute_result",
          "data": {
            "text/plain": [
              "(#2) [Path('/root/.fastai/data/mnist_sample/train/7'),Path('/root/.fastai/data/mnist_sample/train/3')]"
            ]
          },
          "metadata": {
            "tags": []
          },
          "execution_count": 4
        }
      ]
    },
    {
      "cell_type": "code",
      "metadata": {
        "colab": {
          "base_uri": "https://localhost:8080/"
        },
        "id": "mHMhxozgvJxP",
        "outputId": "0e13c6a3-221f-457b-ab30-ff37cbb75e92"
      },
      "source": [
        "threes = (path/\"train\"/\"3\").ls().sorted() \n",
        "sevens = (path/\"train\"/\"7\").ls().sorted()\n",
        "threes"
      ],
      "execution_count": 5,
      "outputs": [
        {
          "output_type": "execute_result",
          "data": {
            "text/plain": [
              "(#6131) [Path('/root/.fastai/data/mnist_sample/train/3/10.png'),Path('/root/.fastai/data/mnist_sample/train/3/10000.png'),Path('/root/.fastai/data/mnist_sample/train/3/10011.png'),Path('/root/.fastai/data/mnist_sample/train/3/10031.png'),Path('/root/.fastai/data/mnist_sample/train/3/10034.png'),Path('/root/.fastai/data/mnist_sample/train/3/10042.png'),Path('/root/.fastai/data/mnist_sample/train/3/10052.png'),Path('/root/.fastai/data/mnist_sample/train/3/1007.png'),Path('/root/.fastai/data/mnist_sample/train/3/10074.png'),Path('/root/.fastai/data/mnist_sample/train/3/10091.png')...]"
            ]
          },
          "metadata": {
            "tags": []
          },
          "execution_count": 5
        }
      ]
    },
    {
      "cell_type": "code",
      "metadata": {
        "colab": {
          "base_uri": "https://localhost:8080/",
          "height": 45
        },
        "id": "ciCG3ytOveMY",
        "outputId": "7694d609-89e5-43c8-b186-26abc58e77e9"
      },
      "source": [
        "im3_path = threes[1]\n",
        "im3      = Image.open(im3_path)\n",
        "im3"
      ],
      "execution_count": 6,
      "outputs": [
        {
          "output_type": "execute_result",
          "data": {
            "image/png": "[encoded data removed]",
            "text/plain": [
              "<PIL.PngImagePlugin.PngImageFile image mode=L size=28x28 at 0x7FEE3E6D5510>"
            ]
          },
          "metadata": {
            "tags": []
          },
          "execution_count": 6
        }
      ]
    },
    {
      "cell_type": "code",
      "metadata": {
        "colab": {
          "base_uri": "https://localhost:8080/"
        },
        "id": "vDrRinurvqJY",
        "outputId": "6b77bba2-15df-4282-e8f0-fee212d0262e"
      },
      "source": [
        "#[row, col]\n",
        "array(im3)[4:10,4:10] #<- top left of img3"
      ],
      "execution_count": 7,
      "outputs": [
        {
          "output_type": "execute_result",
          "data": {
            "text/plain": [
              "array([[  0,   0,   0,   0,   0,   0],\n",
              "       [  0,   0,   0,   0,   0,  29],\n",
              "       [  0,   0,   0,  48, 166, 224],\n",
              "       [  0,  93, 244, 249, 253, 187],\n",
              "       [  0, 107, 253, 253, 230,  48],\n",
              "       [  0,   3,  20,  20,  15,   0]], dtype=uint8)"
            ]
          },
          "metadata": {
            "tags": []
          },
          "execution_count": 7
        }
      ]
    },
    {
      "cell_type": "code",
      "metadata": {
        "colab": {
          "base_uri": "https://localhost:8080/"
        },
        "id": "_jxl9VGMv1Nz",
        "outputId": "d004ba7e-d958-4430-f780-7093f4e27b8b"
      },
      "source": [
        "tensor(im3)[4:10,4:10]"
      ],
      "execution_count": 9,
      "outputs": [
        {
          "output_type": "execute_result",
          "data": {
            "text/plain": [
              "tensor([[  0,   0,   0,   0,   0,   0],\n",
              "        [  0,   0,   0,   0,   0,  29],\n",
              "        [  0,   0,   0,  48, 166, 224],\n",
              "        [  0,  93, 244, 249, 253, 187],\n",
              "        [  0, 107, 253, 253, 230,  48],\n",
              "        [  0,   3,  20,  20,  15,   0]], dtype=torch.uint8)"
            ]
          },
          "metadata": {
            "tags": []
          },
          "execution_count": 9
        }
      ]
    },
    {
      "cell_type": "code",
      "metadata": {
        "colab": {
          "base_uri": "https://localhost:8080/",
          "height": 271
        },
        "id": "UZ1zenq0wI07",
        "outputId": "11abf998-c7e6-4ccf-a244-e1fa2fcf5e25"
      },
      "source": [
        "im3_t = tensor(im3)\n",
        "df = pd.DataFrame(im3_t[4:15,4:22])\n",
        "df.style.set_properties(**{'font-size':'6pt'}).background_gradient('Greys')"
      ],
      "execution_count": 10,
      "outputs": [
        {
          "output_type": "execute_result",
          "data": {
            "text/html": [
              "<style  type=\"text/css\" >\n",
              "#T_87feb99c_8c8b_11eb_a7a0_0242ac1c0002row0_col0,#T_87feb99c_8c8b_11eb_a7a0_0242ac1c0002row0_col1,#T_87feb99c_8c8b_11eb_a7a0_0242ac1c0002row0_col2,#T_87feb99c_8c8b_11eb_a7a0_0242ac1c0002row0_col3,#T_87feb99c_8c8b_11eb_a7a0_0242ac1c0002row0_col4,#T_87feb99c_8c8b_11eb_a7a0_0242ac1c0002row0_col5,#T_87feb99c_8c8b_11eb_a7a0_0242ac1c0002row0_col6,#T_87feb99c_8c8b_11eb_a7a0_0242ac1c0002row0_col7,#T_87feb99c_8c8b_11eb_a7a0_0242ac1c0002row0_col8,#T_87feb99c_8c8b_11eb_a7a0_0242ac1c0002row0_col9,#T_87feb99c_8c8b_11eb_a7a0_0242ac1c0002row0_col10,#T_87feb99c_8c8b_11eb_a7a0_0242ac1c0002row0_col11,#T_87feb99c_8c8b_11eb_a7a0_0242ac1c0002row0_col12,#T_87feb99c_8c8b_11eb_a7a0_0242ac1c0002row0_col13,#T_87feb99c_8c8b_11eb_a7a0_0242ac1c0002row0_col14,#T_87feb99c_8c8b_11eb_a7a0_0242ac1c0002row0_col15,#T_87feb99c_8c8b_11eb_a7a0_0242ac1c0002row0_col16,#T_87feb99c_8c8b_11eb_a7a0_0242ac1c0002row0_col17,#T_87feb99c_8c8b_11eb_a7a0_0242ac1c0002row1_col0,#T_87feb99c_8c8b_11eb_a7a0_0242ac1c0002row1_col1,#T_87feb99c_8c8b_11eb_a7a0_0242ac1c0002row1_col2,#T_87feb99c_8c8b_11eb_a7a0_0242ac1c0002row1_col3,#T_87feb99c_8c8b_11eb_a7a0_0242ac1c0002row1_col4,#T_87feb99c_8c8b_11eb_a7a0_0242ac1c0002row1_col15,#T_87feb99c_8c8b_11eb_a7a0_0242ac1c0002row1_col16,#T_87feb99c_8c8b_11eb_a7a0_0242ac1c0002row1_col17,#T_87feb99c_8c8b_11eb_a7a0_0242ac1c0002row2_col0,#T_87feb99c_8c8b_11eb_a7a0_0242ac1c0002row2_col1,#T_87feb99c_8c8b_11eb_a7a0_0242ac1c0002row2_col2,#T_87feb99c_8c8b_11eb_a7a0_0242ac1c0002row2_col15,#T_87feb99c_8c8b_11eb_a7a0_0242ac1c0002row2_col16,#T_87feb99c_8c8b_11eb_a7a0_0242ac1c0002row2_col17,#T_87feb99c_8c8b_11eb_a7a0_0242ac1c0002row3_col0,#T_87feb99c_8c8b_11eb_a7a0_0242ac1c0002row3_col15,#T_87feb99c_8c8b_11eb_a7a0_0242ac1c0002row3_col16,#T_87feb99c_8c8b_11eb_a7a0_0242ac1c0002row3_col17,#T_87feb99c_8c8b_11eb_a7a0_0242ac1c0002row4_col0,#T_87feb99c_8c8b_11eb_a7a0_0242ac1c0002row4_col6,#T_87feb99c_8c8b_11eb_a7a0_0242ac1c0002row4_col7,#T_87feb99c_8c8b_11eb_a7a0_0242ac1c0002row4_col8,#T_87feb99c_8c8b_11eb_a7a0_0242ac1c0002row4_col9,#T_87feb99c_8c8b_11eb_a7a0_0242ac1c0002row4_col10,#T_87feb99c_8c8b_11eb_a7a0_0242ac1c0002row4_col15,#T_87feb99c_8c8b_11eb_a7a0_0242ac1c0002row4_col16,#T_87feb99c_8c8b_11eb_a7a0_0242ac1c0002row4_col17,#T_87feb99c_8c8b_11eb_a7a0_0242ac1c0002row5_col0,#T_87feb99c_8c8b_11eb_a7a0_0242ac1c0002row5_col5,#T_87feb99c_8c8b_11eb_a7a0_0242ac1c0002row5_col6,#T_87feb99c_8c8b_11eb_a7a0_0242ac1c0002row5_col7,#T_87feb99c_8c8b_11eb_a7a0_0242ac1c0002row5_col8,#T_87feb99c_8c8b_11eb_a7a0_0242ac1c0002row5_col9,#T_87feb99c_8c8b_11eb_a7a0_0242ac1c0002row5_col15,#T_87feb99c_8c8b_11eb_a7a0_0242ac1c0002row5_col16,#T_87feb99c_8c8b_11eb_a7a0_0242ac1c0002row5_col17,#T_87feb99c_8c8b_11eb_a7a0_0242ac1c0002row6_col0,#T_87feb99c_8c8b_11eb_a7a0_0242ac1c0002row6_col1,#T_87feb99c_8c8b_11eb_a7a0_0242ac1c0002row6_col2,#T_87feb99c_8c8b_11eb_a7a0_0242ac1c0002row6_col3,#T_87feb99c_8c8b_11eb_a7a0_0242ac1c0002row6_col4,#T_87feb99c_8c8b_11eb_a7a0_0242ac1c0002row6_col5,#T_87feb99c_8c8b_11eb_a7a0_0242ac1c0002row6_col6,#T_87feb99c_8c8b_11eb_a7a0_0242ac1c0002row6_col7,#T_87feb99c_8c8b_11eb_a7a0_0242ac1c0002row6_col8,#T_87feb99c_8c8b_11eb_a7a0_0242ac1c0002row6_col9,#T_87feb99c_8c8b_11eb_a7a0_0242ac1c0002row6_col14,#T_87feb99c_8c8b_11eb_a7a0_0242ac1c0002row6_col15,#T_87feb99c_8c8b_11eb_a7a0_0242ac1c0002row6_col16,#T_87feb99c_8c8b_11eb_a7a0_0242ac1c0002row6_col17,#T_87feb99c_8c8b_11eb_a7a0_0242ac1c0002row7_col0,#T_87feb99c_8c8b_11eb_a7a0_0242ac1c0002row7_col1,#T_87feb99c_8c8b_11eb_a7a0_0242ac1c0002row7_col2,#T_87feb99c_8c8b_11eb_a7a0_0242ac1c0002row7_col3,#T_87feb99c_8c8b_11eb_a7a0_0242ac1c0002row7_col4,#T_87feb99c_8c8b_11eb_a7a0_0242ac1c0002row7_col5,#T_87feb99c_8c8b_11eb_a7a0_0242ac1c0002row7_col6,#T_87feb99c_8c8b_11eb_a7a0_0242ac1c0002row7_col13,#T_87feb99c_8c8b_11eb_a7a0_0242ac1c0002row7_col14,#T_87feb99c_8c8b_11eb_a7a0_0242ac1c0002row7_col15,#T_87feb99c_8c8b_11eb_a7a0_0242ac1c0002row7_col16,#T_87feb99c_8c8b_11eb_a7a0_0242ac1c0002row7_col17,#T_87feb99c_8c8b_11eb_a7a0_0242ac1c0002row8_col0,#T_87feb99c_8c8b_11eb_a7a0_0242ac1c0002row8_col1,#T_87feb99c_8c8b_11eb_a7a0_0242ac1c0002row8_col2,#T_87feb99c_8c8b_11eb_a7a0_0242ac1c0002row8_col3,#T_87feb99c_8c8b_11eb_a7a0_0242ac1c0002row8_col4,#T_87feb99c_8c8b_11eb_a7a0_0242ac1c0002row8_col13,#T_87feb99c_8c8b_11eb_a7a0_0242ac1c0002row8_col14,#T_87feb99c_8c8b_11eb_a7a0_0242ac1c0002row8_col15,#T_87feb99c_8c8b_11eb_a7a0_0242ac1c0002row8_col16,#T_87feb99c_8c8b_11eb_a7a0_0242ac1c0002row8_col17,#T_87feb99c_8c8b_11eb_a7a0_0242ac1c0002row9_col0,#T_87feb99c_8c8b_11eb_a7a0_0242ac1c0002row9_col1,#T_87feb99c_8c8b_11eb_a7a0_0242ac1c0002row9_col2,#T_87feb99c_8c8b_11eb_a7a0_0242ac1c0002row9_col3,#T_87feb99c_8c8b_11eb_a7a0_0242ac1c0002row9_col4,#T_87feb99c_8c8b_11eb_a7a0_0242ac1c0002row9_col16,#T_87feb99c_8c8b_11eb_a7a0_0242ac1c0002row9_col17,#T_87feb99c_8c8b_11eb_a7a0_0242ac1c0002row10_col0,#T_87feb99c_8c8b_11eb_a7a0_0242ac1c0002row10_col1,#T_87feb99c_8c8b_11eb_a7a0_0242ac1c0002row10_col2,#T_87feb99c_8c8b_11eb_a7a0_0242ac1c0002row10_col3,#T_87feb99c_8c8b_11eb_a7a0_0242ac1c0002row10_col4,#T_87feb99c_8c8b_11eb_a7a0_0242ac1c0002row10_col5,#T_87feb99c_8c8b_11eb_a7a0_0242ac1c0002row10_col6,#T_87feb99c_8c8b_11eb_a7a0_0242ac1c0002row10_col17{\n",
              "            font-size:  6pt;\n",
              "            background-color:  #ffffff;\n",
              "            color:  #000000;\n",
              "        }#T_87feb99c_8c8b_11eb_a7a0_0242ac1c0002row1_col5{\n",
              "            font-size:  6pt;\n",
              "            background-color:  #efefef;\n",
              "            color:  #000000;\n",
              "        }#T_87feb99c_8c8b_11eb_a7a0_0242ac1c0002row1_col6,#T_87feb99c_8c8b_11eb_a7a0_0242ac1c0002row1_col13{\n",
              "            font-size:  6pt;\n",
              "            background-color:  #7c7c7c;\n",
              "            color:  #000000;\n",
              "        }#T_87feb99c_8c8b_11eb_a7a0_0242ac1c0002row1_col7{\n",
              "            font-size:  6pt;\n",
              "            background-color:  #4a4a4a;\n",
              "            color:  #f1f1f1;\n",
              "        }#T_87feb99c_8c8b_11eb_a7a0_0242ac1c0002row1_col8,#T_87feb99c_8c8b_11eb_a7a0_0242ac1c0002row1_col9,#T_87feb99c_8c8b_11eb_a7a0_0242ac1c0002row1_col10,#T_87feb99c_8c8b_11eb_a7a0_0242ac1c0002row2_col5,#T_87feb99c_8c8b_11eb_a7a0_0242ac1c0002row2_col6,#T_87feb99c_8c8b_11eb_a7a0_0242ac1c0002row2_col7,#T_87feb99c_8c8b_11eb_a7a0_0242ac1c0002row2_col11,#T_87feb99c_8c8b_11eb_a7a0_0242ac1c0002row2_col12,#T_87feb99c_8c8b_11eb_a7a0_0242ac1c0002row2_col13,#T_87feb99c_8c8b_11eb_a7a0_0242ac1c0002row3_col4,#T_87feb99c_8c8b_11eb_a7a0_0242ac1c0002row3_col12,#T_87feb99c_8c8b_11eb_a7a0_0242ac1c0002row3_col13,#T_87feb99c_8c8b_11eb_a7a0_0242ac1c0002row4_col1,#T_87feb99c_8c8b_11eb_a7a0_0242ac1c0002row4_col2,#T_87feb99c_8c8b_11eb_a7a0_0242ac1c0002row4_col3,#T_87feb99c_8c8b_11eb_a7a0_0242ac1c0002row4_col12,#T_87feb99c_8c8b_11eb_a7a0_0242ac1c0002row4_col13,#T_87feb99c_8c8b_11eb_a7a0_0242ac1c0002row5_col12,#T_87feb99c_8c8b_11eb_a7a0_0242ac1c0002row6_col11,#T_87feb99c_8c8b_11eb_a7a0_0242ac1c0002row9_col11,#T_87feb99c_8c8b_11eb_a7a0_0242ac1c0002row10_col11,#T_87feb99c_8c8b_11eb_a7a0_0242ac1c0002row10_col12,#T_87feb99c_8c8b_11eb_a7a0_0242ac1c0002row10_col13,#T_87feb99c_8c8b_11eb_a7a0_0242ac1c0002row10_col14,#T_87feb99c_8c8b_11eb_a7a0_0242ac1c0002row10_col15,#T_87feb99c_8c8b_11eb_a7a0_0242ac1c0002row10_col16{\n",
              "            font-size:  6pt;\n",
              "            background-color:  #000000;\n",
              "            color:  #f1f1f1;\n",
              "        }#T_87feb99c_8c8b_11eb_a7a0_0242ac1c0002row1_col11{\n",
              "            font-size:  6pt;\n",
              "            background-color:  #606060;\n",
              "            color:  #f1f1f1;\n",
              "        }#T_87feb99c_8c8b_11eb_a7a0_0242ac1c0002row1_col12{\n",
              "            font-size:  6pt;\n",
              "            background-color:  #4d4d4d;\n",
              "            color:  #f1f1f1;\n",
              "        }#T_87feb99c_8c8b_11eb_a7a0_0242ac1c0002row1_col14{\n",
              "            font-size:  6pt;\n",
              "            background-color:  #bbbbbb;\n",
              "            color:  #000000;\n",
              "        }#T_87feb99c_8c8b_11eb_a7a0_0242ac1c0002row2_col3{\n",
              "            font-size:  6pt;\n",
              "            background-color:  #e4e4e4;\n",
              "            color:  #000000;\n",
              "        }#T_87feb99c_8c8b_11eb_a7a0_0242ac1c0002row2_col4,#T_87feb99c_8c8b_11eb_a7a0_0242ac1c0002row8_col6{\n",
              "            font-size:  6pt;\n",
              "            background-color:  #6b6b6b;\n",
              "            color:  #000000;\n",
              "        }#T_87feb99c_8c8b_11eb_a7a0_0242ac1c0002row2_col8,#T_87feb99c_8c8b_11eb_a7a0_0242ac1c0002row2_col14,#T_87feb99c_8c8b_11eb_a7a0_0242ac1c0002row3_col14{\n",
              "            font-size:  6pt;\n",
              "            background-color:  #171717;\n",
              "            color:  #f1f1f1;\n",
              "        }#T_87feb99c_8c8b_11eb_a7a0_0242ac1c0002row2_col9,#T_87feb99c_8c8b_11eb_a7a0_0242ac1c0002row3_col11{\n",
              "            font-size:  6pt;\n",
              "            background-color:  #4b4b4b;\n",
              "            color:  #f1f1f1;\n",
              "        }#T_87feb99c_8c8b_11eb_a7a0_0242ac1c0002row2_col10,#T_87feb99c_8c8b_11eb_a7a0_0242ac1c0002row7_col10,#T_87feb99c_8c8b_11eb_a7a0_0242ac1c0002row8_col8,#T_87feb99c_8c8b_11eb_a7a0_0242ac1c0002row8_col10,#T_87feb99c_8c8b_11eb_a7a0_0242ac1c0002row9_col8,#T_87feb99c_8c8b_11eb_a7a0_0242ac1c0002row9_col10{\n",
              "            font-size:  6pt;\n",
              "            background-color:  #010101;\n",
              "            color:  #f1f1f1;\n",
              "        }#T_87feb99c_8c8b_11eb_a7a0_0242ac1c0002row3_col1{\n",
              "            font-size:  6pt;\n",
              "            background-color:  #272727;\n",
              "            color:  #f1f1f1;\n",
              "        }#T_87feb99c_8c8b_11eb_a7a0_0242ac1c0002row3_col2{\n",
              "            font-size:  6pt;\n",
              "            background-color:  #0a0a0a;\n",
              "            color:  #f1f1f1;\n",
              "        }#T_87feb99c_8c8b_11eb_a7a0_0242ac1c0002row3_col3{\n",
              "            font-size:  6pt;\n",
              "            background-color:  #050505;\n",
              "            color:  #f1f1f1;\n",
              "        }#T_87feb99c_8c8b_11eb_a7a0_0242ac1c0002row3_col5{\n",
              "            font-size:  6pt;\n",
              "            background-color:  #333333;\n",
              "            color:  #f1f1f1;\n",
              "        }#T_87feb99c_8c8b_11eb_a7a0_0242ac1c0002row3_col6{\n",
              "            font-size:  6pt;\n",
              "            background-color:  #e6e6e6;\n",
              "            color:  #000000;\n",
              "        }#T_87feb99c_8c8b_11eb_a7a0_0242ac1c0002row3_col7,#T_87feb99c_8c8b_11eb_a7a0_0242ac1c0002row3_col10{\n",
              "            font-size:  6pt;\n",
              "            background-color:  #fafafa;\n",
              "            color:  #000000;\n",
              "        }#T_87feb99c_8c8b_11eb_a7a0_0242ac1c0002row3_col8{\n",
              "            font-size:  6pt;\n",
              "            background-color:  #fbfbfb;\n",
              "            color:  #000000;\n",
              "        }#T_87feb99c_8c8b_11eb_a7a0_0242ac1c0002row3_col9{\n",
              "            font-size:  6pt;\n",
              "            background-color:  #fdfdfd;\n",
              "            color:  #000000;\n",
              "        }#T_87feb99c_8c8b_11eb_a7a0_0242ac1c0002row4_col4{\n",
              "            font-size:  6pt;\n",
              "            background-color:  #1b1b1b;\n",
              "            color:  #f1f1f1;\n",
              "        }#T_87feb99c_8c8b_11eb_a7a0_0242ac1c0002row4_col5{\n",
              "            font-size:  6pt;\n",
              "            background-color:  #e0e0e0;\n",
              "            color:  #000000;\n",
              "        }#T_87feb99c_8c8b_11eb_a7a0_0242ac1c0002row4_col11{\n",
              "            font-size:  6pt;\n",
              "            background-color:  #4e4e4e;\n",
              "            color:  #f1f1f1;\n",
              "        }#T_87feb99c_8c8b_11eb_a7a0_0242ac1c0002row4_col14{\n",
              "            font-size:  6pt;\n",
              "            background-color:  #767676;\n",
              "            color:  #000000;\n",
              "        }#T_87feb99c_8c8b_11eb_a7a0_0242ac1c0002row5_col1{\n",
              "            font-size:  6pt;\n",
              "            background-color:  #fcfcfc;\n",
              "            color:  #000000;\n",
              "        }#T_87feb99c_8c8b_11eb_a7a0_0242ac1c0002row5_col2,#T_87feb99c_8c8b_11eb_a7a0_0242ac1c0002row5_col3{\n",
              "            font-size:  6pt;\n",
              "            background-color:  #f6f6f6;\n",
              "            color:  #000000;\n",
              "        }#T_87feb99c_8c8b_11eb_a7a0_0242ac1c0002row5_col4,#T_87feb99c_8c8b_11eb_a7a0_0242ac1c0002row7_col7{\n",
              "            font-size:  6pt;\n",
              "            background-color:  #f8f8f8;\n",
              "            color:  #000000;\n",
              "        }#T_87feb99c_8c8b_11eb_a7a0_0242ac1c0002row5_col10,#T_87feb99c_8c8b_11eb_a7a0_0242ac1c0002row10_col7{\n",
              "            font-size:  6pt;\n",
              "            background-color:  #e8e8e8;\n",
              "            color:  #000000;\n",
              "        }#T_87feb99c_8c8b_11eb_a7a0_0242ac1c0002row5_col11{\n",
              "            font-size:  6pt;\n",
              "            background-color:  #222222;\n",
              "            color:  #f1f1f1;\n",
              "        }#T_87feb99c_8c8b_11eb_a7a0_0242ac1c0002row5_col13,#T_87feb99c_8c8b_11eb_a7a0_0242ac1c0002row6_col12{\n",
              "            font-size:  6pt;\n",
              "            background-color:  #090909;\n",
              "            color:  #f1f1f1;\n",
              "        }#T_87feb99c_8c8b_11eb_a7a0_0242ac1c0002row5_col14{\n",
              "            font-size:  6pt;\n",
              "            background-color:  #d0d0d0;\n",
              "            color:  #000000;\n",
              "        }#T_87feb99c_8c8b_11eb_a7a0_0242ac1c0002row6_col10,#T_87feb99c_8c8b_11eb_a7a0_0242ac1c0002row7_col11,#T_87feb99c_8c8b_11eb_a7a0_0242ac1c0002row9_col6{\n",
              "            font-size:  6pt;\n",
              "            background-color:  #060606;\n",
              "            color:  #f1f1f1;\n",
              "        }#T_87feb99c_8c8b_11eb_a7a0_0242ac1c0002row6_col13{\n",
              "            font-size:  6pt;\n",
              "            background-color:  #979797;\n",
              "            color:  #000000;\n",
              "        }#T_87feb99c_8c8b_11eb_a7a0_0242ac1c0002row7_col8{\n",
              "            font-size:  6pt;\n",
              "            background-color:  #b6b6b6;\n",
              "            color:  #000000;\n",
              "        }#T_87feb99c_8c8b_11eb_a7a0_0242ac1c0002row7_col9{\n",
              "            font-size:  6pt;\n",
              "            background-color:  #252525;\n",
              "            color:  #f1f1f1;\n",
              "        }#T_87feb99c_8c8b_11eb_a7a0_0242ac1c0002row7_col12{\n",
              "            font-size:  6pt;\n",
              "            background-color:  #999999;\n",
              "            color:  #000000;\n",
              "        }#T_87feb99c_8c8b_11eb_a7a0_0242ac1c0002row8_col5{\n",
              "            font-size:  6pt;\n",
              "            background-color:  #f9f9f9;\n",
              "            color:  #000000;\n",
              "        }#T_87feb99c_8c8b_11eb_a7a0_0242ac1c0002row8_col7{\n",
              "            font-size:  6pt;\n",
              "            background-color:  #101010;\n",
              "            color:  #f1f1f1;\n",
              "        }#T_87feb99c_8c8b_11eb_a7a0_0242ac1c0002row8_col9,#T_87feb99c_8c8b_11eb_a7a0_0242ac1c0002row9_col9{\n",
              "            font-size:  6pt;\n",
              "            background-color:  #020202;\n",
              "            color:  #f1f1f1;\n",
              "        }#T_87feb99c_8c8b_11eb_a7a0_0242ac1c0002row8_col11{\n",
              "            font-size:  6pt;\n",
              "            background-color:  #545454;\n",
              "            color:  #f1f1f1;\n",
              "        }#T_87feb99c_8c8b_11eb_a7a0_0242ac1c0002row8_col12{\n",
              "            font-size:  6pt;\n",
              "            background-color:  #f1f1f1;\n",
              "            color:  #000000;\n",
              "        }#T_87feb99c_8c8b_11eb_a7a0_0242ac1c0002row9_col5{\n",
              "            font-size:  6pt;\n",
              "            background-color:  #f7f7f7;\n",
              "            color:  #000000;\n",
              "        }#T_87feb99c_8c8b_11eb_a7a0_0242ac1c0002row9_col7{\n",
              "            font-size:  6pt;\n",
              "            background-color:  #030303;\n",
              "            color:  #f1f1f1;\n",
              "        }#T_87feb99c_8c8b_11eb_a7a0_0242ac1c0002row9_col12{\n",
              "            font-size:  6pt;\n",
              "            background-color:  #181818;\n",
              "            color:  #f1f1f1;\n",
              "        }#T_87feb99c_8c8b_11eb_a7a0_0242ac1c0002row9_col13{\n",
              "            font-size:  6pt;\n",
              "            background-color:  #303030;\n",
              "            color:  #f1f1f1;\n",
              "        }#T_87feb99c_8c8b_11eb_a7a0_0242ac1c0002row9_col14{\n",
              "            font-size:  6pt;\n",
              "            background-color:  #a9a9a9;\n",
              "            color:  #000000;\n",
              "        }#T_87feb99c_8c8b_11eb_a7a0_0242ac1c0002row9_col15{\n",
              "            font-size:  6pt;\n",
              "            background-color:  #fefefe;\n",
              "            color:  #000000;\n",
              "        }#T_87feb99c_8c8b_11eb_a7a0_0242ac1c0002row10_col8,#T_87feb99c_8c8b_11eb_a7a0_0242ac1c0002row10_col9{\n",
              "            font-size:  6pt;\n",
              "            background-color:  #bababa;\n",
              "            color:  #000000;\n",
              "        }#T_87feb99c_8c8b_11eb_a7a0_0242ac1c0002row10_col10{\n",
              "            font-size:  6pt;\n",
              "            background-color:  #393939;\n",
              "            color:  #f1f1f1;\n",
              "        }</style><table id=\"T_87feb99c_8c8b_11eb_a7a0_0242ac1c0002\" ><thead>    <tr>        <th class=\"blank level0\" ></th>        <th class=\"col_heading level0 col0\" >0</th>        <th class=\"col_heading level0 col1\" >1</th>        <th class=\"col_heading level0 col2\" >2</th>        <th class=\"col_heading level0 col3\" >3</th>        <th class=\"col_heading level0 col4\" >4</th>        <th class=\"col_heading level0 col5\" >5</th>        <th class=\"col_heading level0 col6\" >6</th>        <th class=\"col_heading level0 col7\" >7</th>        <th class=\"col_heading level0 col8\" >8</th>        <th class=\"col_heading level0 col9\" >9</th>        <th class=\"col_heading level0 col10\" >10</th>        <th class=\"col_heading level0 col11\" >11</th>        <th class=\"col_heading level0 col12\" >12</th>        <th class=\"col_heading level0 col13\" >13</th>        <th class=\"col_heading level0 col14\" >14</th>        <th class=\"col_heading level0 col15\" >15</th>        <th class=\"col_heading level0 col16\" >16</th>        <th class=\"col_heading level0 col17\" >17</th>    </tr></thead><tbody>\n",
              "                <tr>\n",
              "                        <th id=\"T_87feb99c_8c8b_11eb_a7a0_0242ac1c0002level0_row0\" class=\"row_heading level0 row0\" >0</th>\n",
              "                        <td id=\"T_87feb99c_8c8b_11eb_a7a0_0242ac1c0002row0_col0\" class=\"data row0 col0\" >0</td>\n",
              "                        <td id=\"T_87feb99c_8c8b_11eb_a7a0_0242ac1c0002row0_col1\" class=\"data row0 col1\" >0</td>\n",
              "                        <td id=\"T_87feb99c_8c8b_11eb_a7a0_0242ac1c0002row0_col2\" class=\"data row0 col2\" >0</td>\n",
              "                        <td id=\"T_87feb99c_8c8b_11eb_a7a0_0242ac1c0002row0_col3\" class=\"data row0 col3\" >0</td>\n",
              "                        <td id=\"T_87feb99c_8c8b_11eb_a7a0_0242ac1c0002row0_col4\" class=\"data row0 col4\" >0</td>\n",
              "                        <td id=\"T_87feb99c_8c8b_11eb_a7a0_0242ac1c0002row0_col5\" class=\"data row0 col5\" >0</td>\n",
              "                        <td id=\"T_87feb99c_8c8b_11eb_a7a0_0242ac1c0002row0_col6\" class=\"data row0 col6\" >0</td>\n",
              "                        <td id=\"T_87feb99c_8c8b_11eb_a7a0_0242ac1c0002row0_col7\" class=\"data row0 col7\" >0</td>\n",
              "                        <td id=\"T_87feb99c_8c8b_11eb_a7a0_0242ac1c0002row0_col8\" class=\"data row0 col8\" >0</td>\n",
              "                        <td id=\"T_87feb99c_8c8b_11eb_a7a0_0242ac1c0002row0_col9\" class=\"data row0 col9\" >0</td>\n",
              "                        <td id=\"T_87feb99c_8c8b_11eb_a7a0_0242ac1c0002row0_col10\" class=\"data row0 col10\" >0</td>\n",
              "                        <td id=\"T_87feb99c_8c8b_11eb_a7a0_0242ac1c0002row0_col11\" class=\"data row0 col11\" >0</td>\n",
              "                        <td id=\"T_87feb99c_8c8b_11eb_a7a0_0242ac1c0002row0_col12\" class=\"data row0 col12\" >0</td>\n",
              "                        <td id=\"T_87feb99c_8c8b_11eb_a7a0_0242ac1c0002row0_col13\" class=\"data row0 col13\" >0</td>\n",
              "                        <td id=\"T_87feb99c_8c8b_11eb_a7a0_0242ac1c0002row0_col14\" class=\"data row0 col14\" >0</td>\n",
              "                        <td id=\"T_87feb99c_8c8b_11eb_a7a0_0242ac1c0002row0_col15\" class=\"data row0 col15\" >0</td>\n",
              "                        <td id=\"T_87feb99c_8c8b_11eb_a7a0_0242ac1c0002row0_col16\" class=\"data row0 col16\" >0</td>\n",
              "                        <td id=\"T_87feb99c_8c8b_11eb_a7a0_0242ac1c0002row0_col17\" class=\"data row0 col17\" >0</td>\n",
              "            </tr>\n",
              "            <tr>\n",
              "                        <th id=\"T_87feb99c_8c8b_11eb_a7a0_0242ac1c0002level0_row1\" class=\"row_heading level0 row1\" >1</th>\n",
              "                        <td id=\"T_87feb99c_8c8b_11eb_a7a0_0242ac1c0002row1_col0\" class=\"data row1 col0\" >0</td>\n",
              "                        <td id=\"T_87feb99c_8c8b_11eb_a7a0_0242ac1c0002row1_col1\" class=\"data row1 col1\" >0</td>\n",
              "                        <td id=\"T_87feb99c_8c8b_11eb_a7a0_0242ac1c0002row1_col2\" class=\"data row1 col2\" >0</td>\n",
              "                        <td id=\"T_87feb99c_8c8b_11eb_a7a0_0242ac1c0002row1_col3\" class=\"data row1 col3\" >0</td>\n",
              "                        <td id=\"T_87feb99c_8c8b_11eb_a7a0_0242ac1c0002row1_col4\" class=\"data row1 col4\" >0</td>\n",
              "                        <td id=\"T_87feb99c_8c8b_11eb_a7a0_0242ac1c0002row1_col5\" class=\"data row1 col5\" >29</td>\n",
              "                        <td id=\"T_87feb99c_8c8b_11eb_a7a0_0242ac1c0002row1_col6\" class=\"data row1 col6\" >150</td>\n",
              "                        <td id=\"T_87feb99c_8c8b_11eb_a7a0_0242ac1c0002row1_col7\" class=\"data row1 col7\" >195</td>\n",
              "                        <td id=\"T_87feb99c_8c8b_11eb_a7a0_0242ac1c0002row1_col8\" class=\"data row1 col8\" >254</td>\n",
              "                        <td id=\"T_87feb99c_8c8b_11eb_a7a0_0242ac1c0002row1_col9\" class=\"data row1 col9\" >255</td>\n",
              "                        <td id=\"T_87feb99c_8c8b_11eb_a7a0_0242ac1c0002row1_col10\" class=\"data row1 col10\" >254</td>\n",
              "                        <td id=\"T_87feb99c_8c8b_11eb_a7a0_0242ac1c0002row1_col11\" class=\"data row1 col11\" >176</td>\n",
              "                        <td id=\"T_87feb99c_8c8b_11eb_a7a0_0242ac1c0002row1_col12\" class=\"data row1 col12\" >193</td>\n",
              "                        <td id=\"T_87feb99c_8c8b_11eb_a7a0_0242ac1c0002row1_col13\" class=\"data row1 col13\" >150</td>\n",
              "                        <td id=\"T_87feb99c_8c8b_11eb_a7a0_0242ac1c0002row1_col14\" class=\"data row1 col14\" >96</td>\n",
              "                        <td id=\"T_87feb99c_8c8b_11eb_a7a0_0242ac1c0002row1_col15\" class=\"data row1 col15\" >0</td>\n",
              "                        <td id=\"T_87feb99c_8c8b_11eb_a7a0_0242ac1c0002row1_col16\" class=\"data row1 col16\" >0</td>\n",
              "                        <td id=\"T_87feb99c_8c8b_11eb_a7a0_0242ac1c0002row1_col17\" class=\"data row1 col17\" >0</td>\n",
              "            </tr>\n",
              "            <tr>\n",
              "                        <th id=\"T_87feb99c_8c8b_11eb_a7a0_0242ac1c0002level0_row2\" class=\"row_heading level0 row2\" >2</th>\n",
              "                        <td id=\"T_87feb99c_8c8b_11eb_a7a0_0242ac1c0002row2_col0\" class=\"data row2 col0\" >0</td>\n",
              "                        <td id=\"T_87feb99c_8c8b_11eb_a7a0_0242ac1c0002row2_col1\" class=\"data row2 col1\" >0</td>\n",
              "                        <td id=\"T_87feb99c_8c8b_11eb_a7a0_0242ac1c0002row2_col2\" class=\"data row2 col2\" >0</td>\n",
              "                        <td id=\"T_87feb99c_8c8b_11eb_a7a0_0242ac1c0002row2_col3\" class=\"data row2 col3\" >48</td>\n",
              "                        <td id=\"T_87feb99c_8c8b_11eb_a7a0_0242ac1c0002row2_col4\" class=\"data row2 col4\" >166</td>\n",
              "                        <td id=\"T_87feb99c_8c8b_11eb_a7a0_0242ac1c0002row2_col5\" class=\"data row2 col5\" >224</td>\n",
              "                        <td id=\"T_87feb99c_8c8b_11eb_a7a0_0242ac1c0002row2_col6\" class=\"data row2 col6\" >253</td>\n",
              "                        <td id=\"T_87feb99c_8c8b_11eb_a7a0_0242ac1c0002row2_col7\" class=\"data row2 col7\" >253</td>\n",
              "                        <td id=\"T_87feb99c_8c8b_11eb_a7a0_0242ac1c0002row2_col8\" class=\"data row2 col8\" >234</td>\n",
              "                        <td id=\"T_87feb99c_8c8b_11eb_a7a0_0242ac1c0002row2_col9\" class=\"data row2 col9\" >196</td>\n",
              "                        <td id=\"T_87feb99c_8c8b_11eb_a7a0_0242ac1c0002row2_col10\" class=\"data row2 col10\" >253</td>\n",
              "                        <td id=\"T_87feb99c_8c8b_11eb_a7a0_0242ac1c0002row2_col11\" class=\"data row2 col11\" >253</td>\n",
              "                        <td id=\"T_87feb99c_8c8b_11eb_a7a0_0242ac1c0002row2_col12\" class=\"data row2 col12\" >253</td>\n",
              "                        <td id=\"T_87feb99c_8c8b_11eb_a7a0_0242ac1c0002row2_col13\" class=\"data row2 col13\" >253</td>\n",
              "                        <td id=\"T_87feb99c_8c8b_11eb_a7a0_0242ac1c0002row2_col14\" class=\"data row2 col14\" >233</td>\n",
              "                        <td id=\"T_87feb99c_8c8b_11eb_a7a0_0242ac1c0002row2_col15\" class=\"data row2 col15\" >0</td>\n",
              "                        <td id=\"T_87feb99c_8c8b_11eb_a7a0_0242ac1c0002row2_col16\" class=\"data row2 col16\" >0</td>\n",
              "                        <td id=\"T_87feb99c_8c8b_11eb_a7a0_0242ac1c0002row2_col17\" class=\"data row2 col17\" >0</td>\n",
              "            </tr>\n",
              "            <tr>\n",
              "                        <th id=\"T_87feb99c_8c8b_11eb_a7a0_0242ac1c0002level0_row3\" class=\"row_heading level0 row3\" >3</th>\n",
              "                        <td id=\"T_87feb99c_8c8b_11eb_a7a0_0242ac1c0002row3_col0\" class=\"data row3 col0\" >0</td>\n",
              "                        <td id=\"T_87feb99c_8c8b_11eb_a7a0_0242ac1c0002row3_col1\" class=\"data row3 col1\" >93</td>\n",
              "                        <td id=\"T_87feb99c_8c8b_11eb_a7a0_0242ac1c0002row3_col2\" class=\"data row3 col2\" >244</td>\n",
              "                        <td id=\"T_87feb99c_8c8b_11eb_a7a0_0242ac1c0002row3_col3\" class=\"data row3 col3\" >249</td>\n",
              "                        <td id=\"T_87feb99c_8c8b_11eb_a7a0_0242ac1c0002row3_col4\" class=\"data row3 col4\" >253</td>\n",
              "                        <td id=\"T_87feb99c_8c8b_11eb_a7a0_0242ac1c0002row3_col5\" class=\"data row3 col5\" >187</td>\n",
              "                        <td id=\"T_87feb99c_8c8b_11eb_a7a0_0242ac1c0002row3_col6\" class=\"data row3 col6\" >46</td>\n",
              "                        <td id=\"T_87feb99c_8c8b_11eb_a7a0_0242ac1c0002row3_col7\" class=\"data row3 col7\" >10</td>\n",
              "                        <td id=\"T_87feb99c_8c8b_11eb_a7a0_0242ac1c0002row3_col8\" class=\"data row3 col8\" >8</td>\n",
              "                        <td id=\"T_87feb99c_8c8b_11eb_a7a0_0242ac1c0002row3_col9\" class=\"data row3 col9\" >4</td>\n",
              "                        <td id=\"T_87feb99c_8c8b_11eb_a7a0_0242ac1c0002row3_col10\" class=\"data row3 col10\" >10</td>\n",
              "                        <td id=\"T_87feb99c_8c8b_11eb_a7a0_0242ac1c0002row3_col11\" class=\"data row3 col11\" >194</td>\n",
              "                        <td id=\"T_87feb99c_8c8b_11eb_a7a0_0242ac1c0002row3_col12\" class=\"data row3 col12\" >253</td>\n",
              "                        <td id=\"T_87feb99c_8c8b_11eb_a7a0_0242ac1c0002row3_col13\" class=\"data row3 col13\" >253</td>\n",
              "                        <td id=\"T_87feb99c_8c8b_11eb_a7a0_0242ac1c0002row3_col14\" class=\"data row3 col14\" >233</td>\n",
              "                        <td id=\"T_87feb99c_8c8b_11eb_a7a0_0242ac1c0002row3_col15\" class=\"data row3 col15\" >0</td>\n",
              "                        <td id=\"T_87feb99c_8c8b_11eb_a7a0_0242ac1c0002row3_col16\" class=\"data row3 col16\" >0</td>\n",
              "                        <td id=\"T_87feb99c_8c8b_11eb_a7a0_0242ac1c0002row3_col17\" class=\"data row3 col17\" >0</td>\n",
              "            </tr>\n",
              "            <tr>\n",
              "                        <th id=\"T_87feb99c_8c8b_11eb_a7a0_0242ac1c0002level0_row4\" class=\"row_heading level0 row4\" >4</th>\n",
              "                        <td id=\"T_87feb99c_8c8b_11eb_a7a0_0242ac1c0002row4_col0\" class=\"data row4 col0\" >0</td>\n",
              "                        <td id=\"T_87feb99c_8c8b_11eb_a7a0_0242ac1c0002row4_col1\" class=\"data row4 col1\" >107</td>\n",
              "                        <td id=\"T_87feb99c_8c8b_11eb_a7a0_0242ac1c0002row4_col2\" class=\"data row4 col2\" >253</td>\n",
              "                        <td id=\"T_87feb99c_8c8b_11eb_a7a0_0242ac1c0002row4_col3\" class=\"data row4 col3\" >253</td>\n",
              "                        <td id=\"T_87feb99c_8c8b_11eb_a7a0_0242ac1c0002row4_col4\" class=\"data row4 col4\" >230</td>\n",
              "                        <td id=\"T_87feb99c_8c8b_11eb_a7a0_0242ac1c0002row4_col5\" class=\"data row4 col5\" >48</td>\n",
              "                        <td id=\"T_87feb99c_8c8b_11eb_a7a0_0242ac1c0002row4_col6\" class=\"data row4 col6\" >0</td>\n",
              "                        <td id=\"T_87feb99c_8c8b_11eb_a7a0_0242ac1c0002row4_col7\" class=\"data row4 col7\" >0</td>\n",
              "                        <td id=\"T_87feb99c_8c8b_11eb_a7a0_0242ac1c0002row4_col8\" class=\"data row4 col8\" >0</td>\n",
              "                        <td id=\"T_87feb99c_8c8b_11eb_a7a0_0242ac1c0002row4_col9\" class=\"data row4 col9\" >0</td>\n",
              "                        <td id=\"T_87feb99c_8c8b_11eb_a7a0_0242ac1c0002row4_col10\" class=\"data row4 col10\" >0</td>\n",
              "                        <td id=\"T_87feb99c_8c8b_11eb_a7a0_0242ac1c0002row4_col11\" class=\"data row4 col11\" >192</td>\n",
              "                        <td id=\"T_87feb99c_8c8b_11eb_a7a0_0242ac1c0002row4_col12\" class=\"data row4 col12\" >253</td>\n",
              "                        <td id=\"T_87feb99c_8c8b_11eb_a7a0_0242ac1c0002row4_col13\" class=\"data row4 col13\" >253</td>\n",
              "                        <td id=\"T_87feb99c_8c8b_11eb_a7a0_0242ac1c0002row4_col14\" class=\"data row4 col14\" >156</td>\n",
              "                        <td id=\"T_87feb99c_8c8b_11eb_a7a0_0242ac1c0002row4_col15\" class=\"data row4 col15\" >0</td>\n",
              "                        <td id=\"T_87feb99c_8c8b_11eb_a7a0_0242ac1c0002row4_col16\" class=\"data row4 col16\" >0</td>\n",
              "                        <td id=\"T_87feb99c_8c8b_11eb_a7a0_0242ac1c0002row4_col17\" class=\"data row4 col17\" >0</td>\n",
              "            </tr>\n",
              "            <tr>\n",
              "                        <th id=\"T_87feb99c_8c8b_11eb_a7a0_0242ac1c0002level0_row5\" class=\"row_heading level0 row5\" >5</th>\n",
              "                        <td id=\"T_87feb99c_8c8b_11eb_a7a0_0242ac1c0002row5_col0\" class=\"data row5 col0\" >0</td>\n",
              "                        <td id=\"T_87feb99c_8c8b_11eb_a7a0_0242ac1c0002row5_col1\" class=\"data row5 col1\" >3</td>\n",
              "                        <td id=\"T_87feb99c_8c8b_11eb_a7a0_0242ac1c0002row5_col2\" class=\"data row5 col2\" >20</td>\n",
              "                        <td id=\"T_87feb99c_8c8b_11eb_a7a0_0242ac1c0002row5_col3\" class=\"data row5 col3\" >20</td>\n",
              "                        <td id=\"T_87feb99c_8c8b_11eb_a7a0_0242ac1c0002row5_col4\" class=\"data row5 col4\" >15</td>\n",
              "                        <td id=\"T_87feb99c_8c8b_11eb_a7a0_0242ac1c0002row5_col5\" class=\"data row5 col5\" >0</td>\n",
              "                        <td id=\"T_87feb99c_8c8b_11eb_a7a0_0242ac1c0002row5_col6\" class=\"data row5 col6\" >0</td>\n",
              "                        <td id=\"T_87feb99c_8c8b_11eb_a7a0_0242ac1c0002row5_col7\" class=\"data row5 col7\" >0</td>\n",
              "                        <td id=\"T_87feb99c_8c8b_11eb_a7a0_0242ac1c0002row5_col8\" class=\"data row5 col8\" >0</td>\n",
              "                        <td id=\"T_87feb99c_8c8b_11eb_a7a0_0242ac1c0002row5_col9\" class=\"data row5 col9\" >0</td>\n",
              "                        <td id=\"T_87feb99c_8c8b_11eb_a7a0_0242ac1c0002row5_col10\" class=\"data row5 col10\" >43</td>\n",
              "                        <td id=\"T_87feb99c_8c8b_11eb_a7a0_0242ac1c0002row5_col11\" class=\"data row5 col11\" >224</td>\n",
              "                        <td id=\"T_87feb99c_8c8b_11eb_a7a0_0242ac1c0002row5_col12\" class=\"data row5 col12\" >253</td>\n",
              "                        <td id=\"T_87feb99c_8c8b_11eb_a7a0_0242ac1c0002row5_col13\" class=\"data row5 col13\" >245</td>\n",
              "                        <td id=\"T_87feb99c_8c8b_11eb_a7a0_0242ac1c0002row5_col14\" class=\"data row5 col14\" >74</td>\n",
              "                        <td id=\"T_87feb99c_8c8b_11eb_a7a0_0242ac1c0002row5_col15\" class=\"data row5 col15\" >0</td>\n",
              "                        <td id=\"T_87feb99c_8c8b_11eb_a7a0_0242ac1c0002row5_col16\" class=\"data row5 col16\" >0</td>\n",
              "                        <td id=\"T_87feb99c_8c8b_11eb_a7a0_0242ac1c0002row5_col17\" class=\"data row5 col17\" >0</td>\n",
              "            </tr>\n",
              "            <tr>\n",
              "                        <th id=\"T_87feb99c_8c8b_11eb_a7a0_0242ac1c0002level0_row6\" class=\"row_heading level0 row6\" >6</th>\n",
              "                        <td id=\"T_87feb99c_8c8b_11eb_a7a0_0242ac1c0002row6_col0\" class=\"data row6 col0\" >0</td>\n",
              "                        <td id=\"T_87feb99c_8c8b_11eb_a7a0_0242ac1c0002row6_col1\" class=\"data row6 col1\" >0</td>\n",
              "                        <td id=\"T_87feb99c_8c8b_11eb_a7a0_0242ac1c0002row6_col2\" class=\"data row6 col2\" >0</td>\n",
              "                        <td id=\"T_87feb99c_8c8b_11eb_a7a0_0242ac1c0002row6_col3\" class=\"data row6 col3\" >0</td>\n",
              "                        <td id=\"T_87feb99c_8c8b_11eb_a7a0_0242ac1c0002row6_col4\" class=\"data row6 col4\" >0</td>\n",
              "                        <td id=\"T_87feb99c_8c8b_11eb_a7a0_0242ac1c0002row6_col5\" class=\"data row6 col5\" >0</td>\n",
              "                        <td id=\"T_87feb99c_8c8b_11eb_a7a0_0242ac1c0002row6_col6\" class=\"data row6 col6\" >0</td>\n",
              "                        <td id=\"T_87feb99c_8c8b_11eb_a7a0_0242ac1c0002row6_col7\" class=\"data row6 col7\" >0</td>\n",
              "                        <td id=\"T_87feb99c_8c8b_11eb_a7a0_0242ac1c0002row6_col8\" class=\"data row6 col8\" >0</td>\n",
              "                        <td id=\"T_87feb99c_8c8b_11eb_a7a0_0242ac1c0002row6_col9\" class=\"data row6 col9\" >0</td>\n",
              "                        <td id=\"T_87feb99c_8c8b_11eb_a7a0_0242ac1c0002row6_col10\" class=\"data row6 col10\" >249</td>\n",
              "                        <td id=\"T_87feb99c_8c8b_11eb_a7a0_0242ac1c0002row6_col11\" class=\"data row6 col11\" >253</td>\n",
              "                        <td id=\"T_87feb99c_8c8b_11eb_a7a0_0242ac1c0002row6_col12\" class=\"data row6 col12\" >245</td>\n",
              "                        <td id=\"T_87feb99c_8c8b_11eb_a7a0_0242ac1c0002row6_col13\" class=\"data row6 col13\" >126</td>\n",
              "                        <td id=\"T_87feb99c_8c8b_11eb_a7a0_0242ac1c0002row6_col14\" class=\"data row6 col14\" >0</td>\n",
              "                        <td id=\"T_87feb99c_8c8b_11eb_a7a0_0242ac1c0002row6_col15\" class=\"data row6 col15\" >0</td>\n",
              "                        <td id=\"T_87feb99c_8c8b_11eb_a7a0_0242ac1c0002row6_col16\" class=\"data row6 col16\" >0</td>\n",
              "                        <td id=\"T_87feb99c_8c8b_11eb_a7a0_0242ac1c0002row6_col17\" class=\"data row6 col17\" >0</td>\n",
              "            </tr>\n",
              "            <tr>\n",
              "                        <th id=\"T_87feb99c_8c8b_11eb_a7a0_0242ac1c0002level0_row7\" class=\"row_heading level0 row7\" >7</th>\n",
              "                        <td id=\"T_87feb99c_8c8b_11eb_a7a0_0242ac1c0002row7_col0\" class=\"data row7 col0\" >0</td>\n",
              "                        <td id=\"T_87feb99c_8c8b_11eb_a7a0_0242ac1c0002row7_col1\" class=\"data row7 col1\" >0</td>\n",
              "                        <td id=\"T_87feb99c_8c8b_11eb_a7a0_0242ac1c0002row7_col2\" class=\"data row7 col2\" >0</td>\n",
              "                        <td id=\"T_87feb99c_8c8b_11eb_a7a0_0242ac1c0002row7_col3\" class=\"data row7 col3\" >0</td>\n",
              "                        <td id=\"T_87feb99c_8c8b_11eb_a7a0_0242ac1c0002row7_col4\" class=\"data row7 col4\" >0</td>\n",
              "                        <td id=\"T_87feb99c_8c8b_11eb_a7a0_0242ac1c0002row7_col5\" class=\"data row7 col5\" >0</td>\n",
              "                        <td id=\"T_87feb99c_8c8b_11eb_a7a0_0242ac1c0002row7_col6\" class=\"data row7 col6\" >0</td>\n",
              "                        <td id=\"T_87feb99c_8c8b_11eb_a7a0_0242ac1c0002row7_col7\" class=\"data row7 col7\" >14</td>\n",
              "                        <td id=\"T_87feb99c_8c8b_11eb_a7a0_0242ac1c0002row7_col8\" class=\"data row7 col8\" >101</td>\n",
              "                        <td id=\"T_87feb99c_8c8b_11eb_a7a0_0242ac1c0002row7_col9\" class=\"data row7 col9\" >223</td>\n",
              "                        <td id=\"T_87feb99c_8c8b_11eb_a7a0_0242ac1c0002row7_col10\" class=\"data row7 col10\" >253</td>\n",
              "                        <td id=\"T_87feb99c_8c8b_11eb_a7a0_0242ac1c0002row7_col11\" class=\"data row7 col11\" >248</td>\n",
              "                        <td id=\"T_87feb99c_8c8b_11eb_a7a0_0242ac1c0002row7_col12\" class=\"data row7 col12\" >124</td>\n",
              "                        <td id=\"T_87feb99c_8c8b_11eb_a7a0_0242ac1c0002row7_col13\" class=\"data row7 col13\" >0</td>\n",
              "                        <td id=\"T_87feb99c_8c8b_11eb_a7a0_0242ac1c0002row7_col14\" class=\"data row7 col14\" >0</td>\n",
              "                        <td id=\"T_87feb99c_8c8b_11eb_a7a0_0242ac1c0002row7_col15\" class=\"data row7 col15\" >0</td>\n",
              "                        <td id=\"T_87feb99c_8c8b_11eb_a7a0_0242ac1c0002row7_col16\" class=\"data row7 col16\" >0</td>\n",
              "                        <td id=\"T_87feb99c_8c8b_11eb_a7a0_0242ac1c0002row7_col17\" class=\"data row7 col17\" >0</td>\n",
              "            </tr>\n",
              "            <tr>\n",
              "                        <th id=\"T_87feb99c_8c8b_11eb_a7a0_0242ac1c0002level0_row8\" class=\"row_heading level0 row8\" >8</th>\n",
              "                        <td id=\"T_87feb99c_8c8b_11eb_a7a0_0242ac1c0002row8_col0\" class=\"data row8 col0\" >0</td>\n",
              "                        <td id=\"T_87feb99c_8c8b_11eb_a7a0_0242ac1c0002row8_col1\" class=\"data row8 col1\" >0</td>\n",
              "                        <td id=\"T_87feb99c_8c8b_11eb_a7a0_0242ac1c0002row8_col2\" class=\"data row8 col2\" >0</td>\n",
              "                        <td id=\"T_87feb99c_8c8b_11eb_a7a0_0242ac1c0002row8_col3\" class=\"data row8 col3\" >0</td>\n",
              "                        <td id=\"T_87feb99c_8c8b_11eb_a7a0_0242ac1c0002row8_col4\" class=\"data row8 col4\" >0</td>\n",
              "                        <td id=\"T_87feb99c_8c8b_11eb_a7a0_0242ac1c0002row8_col5\" class=\"data row8 col5\" >11</td>\n",
              "                        <td id=\"T_87feb99c_8c8b_11eb_a7a0_0242ac1c0002row8_col6\" class=\"data row8 col6\" >166</td>\n",
              "                        <td id=\"T_87feb99c_8c8b_11eb_a7a0_0242ac1c0002row8_col7\" class=\"data row8 col7\" >239</td>\n",
              "                        <td id=\"T_87feb99c_8c8b_11eb_a7a0_0242ac1c0002row8_col8\" class=\"data row8 col8\" >253</td>\n",
              "                        <td id=\"T_87feb99c_8c8b_11eb_a7a0_0242ac1c0002row8_col9\" class=\"data row8 col9\" >253</td>\n",
              "                        <td id=\"T_87feb99c_8c8b_11eb_a7a0_0242ac1c0002row8_col10\" class=\"data row8 col10\" >253</td>\n",
              "                        <td id=\"T_87feb99c_8c8b_11eb_a7a0_0242ac1c0002row8_col11\" class=\"data row8 col11\" >187</td>\n",
              "                        <td id=\"T_87feb99c_8c8b_11eb_a7a0_0242ac1c0002row8_col12\" class=\"data row8 col12\" >30</td>\n",
              "                        <td id=\"T_87feb99c_8c8b_11eb_a7a0_0242ac1c0002row8_col13\" class=\"data row8 col13\" >0</td>\n",
              "                        <td id=\"T_87feb99c_8c8b_11eb_a7a0_0242ac1c0002row8_col14\" class=\"data row8 col14\" >0</td>\n",
              "                        <td id=\"T_87feb99c_8c8b_11eb_a7a0_0242ac1c0002row8_col15\" class=\"data row8 col15\" >0</td>\n",
              "                        <td id=\"T_87feb99c_8c8b_11eb_a7a0_0242ac1c0002row8_col16\" class=\"data row8 col16\" >0</td>\n",
              "                        <td id=\"T_87feb99c_8c8b_11eb_a7a0_0242ac1c0002row8_col17\" class=\"data row8 col17\" >0</td>\n",
              "            </tr>\n",
              "            <tr>\n",
              "                        <th id=\"T_87feb99c_8c8b_11eb_a7a0_0242ac1c0002level0_row9\" class=\"row_heading level0 row9\" >9</th>\n",
              "                        <td id=\"T_87feb99c_8c8b_11eb_a7a0_0242ac1c0002row9_col0\" class=\"data row9 col0\" >0</td>\n",
              "                        <td id=\"T_87feb99c_8c8b_11eb_a7a0_0242ac1c0002row9_col1\" class=\"data row9 col1\" >0</td>\n",
              "                        <td id=\"T_87feb99c_8c8b_11eb_a7a0_0242ac1c0002row9_col2\" class=\"data row9 col2\" >0</td>\n",
              "                        <td id=\"T_87feb99c_8c8b_11eb_a7a0_0242ac1c0002row9_col3\" class=\"data row9 col3\" >0</td>\n",
              "                        <td id=\"T_87feb99c_8c8b_11eb_a7a0_0242ac1c0002row9_col4\" class=\"data row9 col4\" >0</td>\n",
              "                        <td id=\"T_87feb99c_8c8b_11eb_a7a0_0242ac1c0002row9_col5\" class=\"data row9 col5\" >16</td>\n",
              "                        <td id=\"T_87feb99c_8c8b_11eb_a7a0_0242ac1c0002row9_col6\" class=\"data row9 col6\" >248</td>\n",
              "                        <td id=\"T_87feb99c_8c8b_11eb_a7a0_0242ac1c0002row9_col7\" class=\"data row9 col7\" >250</td>\n",
              "                        <td id=\"T_87feb99c_8c8b_11eb_a7a0_0242ac1c0002row9_col8\" class=\"data row9 col8\" >253</td>\n",
              "                        <td id=\"T_87feb99c_8c8b_11eb_a7a0_0242ac1c0002row9_col9\" class=\"data row9 col9\" >253</td>\n",
              "                        <td id=\"T_87feb99c_8c8b_11eb_a7a0_0242ac1c0002row9_col10\" class=\"data row9 col10\" >253</td>\n",
              "                        <td id=\"T_87feb99c_8c8b_11eb_a7a0_0242ac1c0002row9_col11\" class=\"data row9 col11\" >253</td>\n",
              "                        <td id=\"T_87feb99c_8c8b_11eb_a7a0_0242ac1c0002row9_col12\" class=\"data row9 col12\" >232</td>\n",
              "                        <td id=\"T_87feb99c_8c8b_11eb_a7a0_0242ac1c0002row9_col13\" class=\"data row9 col13\" >213</td>\n",
              "                        <td id=\"T_87feb99c_8c8b_11eb_a7a0_0242ac1c0002row9_col14\" class=\"data row9 col14\" >111</td>\n",
              "                        <td id=\"T_87feb99c_8c8b_11eb_a7a0_0242ac1c0002row9_col15\" class=\"data row9 col15\" >2</td>\n",
              "                        <td id=\"T_87feb99c_8c8b_11eb_a7a0_0242ac1c0002row9_col16\" class=\"data row9 col16\" >0</td>\n",
              "                        <td id=\"T_87feb99c_8c8b_11eb_a7a0_0242ac1c0002row9_col17\" class=\"data row9 col17\" >0</td>\n",
              "            </tr>\n",
              "            <tr>\n",
              "                        <th id=\"T_87feb99c_8c8b_11eb_a7a0_0242ac1c0002level0_row10\" class=\"row_heading level0 row10\" >10</th>\n",
              "                        <td id=\"T_87feb99c_8c8b_11eb_a7a0_0242ac1c0002row10_col0\" class=\"data row10 col0\" >0</td>\n",
              "                        <td id=\"T_87feb99c_8c8b_11eb_a7a0_0242ac1c0002row10_col1\" class=\"data row10 col1\" >0</td>\n",
              "                        <td id=\"T_87feb99c_8c8b_11eb_a7a0_0242ac1c0002row10_col2\" class=\"data row10 col2\" >0</td>\n",
              "                        <td id=\"T_87feb99c_8c8b_11eb_a7a0_0242ac1c0002row10_col3\" class=\"data row10 col3\" >0</td>\n",
              "                        <td id=\"T_87feb99c_8c8b_11eb_a7a0_0242ac1c0002row10_col4\" class=\"data row10 col4\" >0</td>\n",
              "                        <td id=\"T_87feb99c_8c8b_11eb_a7a0_0242ac1c0002row10_col5\" class=\"data row10 col5\" >0</td>\n",
              "                        <td id=\"T_87feb99c_8c8b_11eb_a7a0_0242ac1c0002row10_col6\" class=\"data row10 col6\" >0</td>\n",
              "                        <td id=\"T_87feb99c_8c8b_11eb_a7a0_0242ac1c0002row10_col7\" class=\"data row10 col7\" >43</td>\n",
              "                        <td id=\"T_87feb99c_8c8b_11eb_a7a0_0242ac1c0002row10_col8\" class=\"data row10 col8\" >98</td>\n",
              "                        <td id=\"T_87feb99c_8c8b_11eb_a7a0_0242ac1c0002row10_col9\" class=\"data row10 col9\" >98</td>\n",
              "                        <td id=\"T_87feb99c_8c8b_11eb_a7a0_0242ac1c0002row10_col10\" class=\"data row10 col10\" >208</td>\n",
              "                        <td id=\"T_87feb99c_8c8b_11eb_a7a0_0242ac1c0002row10_col11\" class=\"data row10 col11\" >253</td>\n",
              "                        <td id=\"T_87feb99c_8c8b_11eb_a7a0_0242ac1c0002row10_col12\" class=\"data row10 col12\" >253</td>\n",
              "                        <td id=\"T_87feb99c_8c8b_11eb_a7a0_0242ac1c0002row10_col13\" class=\"data row10 col13\" >253</td>\n",
              "                        <td id=\"T_87feb99c_8c8b_11eb_a7a0_0242ac1c0002row10_col14\" class=\"data row10 col14\" >253</td>\n",
              "                        <td id=\"T_87feb99c_8c8b_11eb_a7a0_0242ac1c0002row10_col15\" class=\"data row10 col15\" >187</td>\n",
              "                        <td id=\"T_87feb99c_8c8b_11eb_a7a0_0242ac1c0002row10_col16\" class=\"data row10 col16\" >22</td>\n",
              "                        <td id=\"T_87feb99c_8c8b_11eb_a7a0_0242ac1c0002row10_col17\" class=\"data row10 col17\" >0</td>\n",
              "            </tr>\n",
              "    </tbody></table>"
            ],
            "text/plain": [
              "<pandas.io.formats.style.Styler at 0x7fee3df73b10>"
            ]
          },
          "metadata": {
            "tags": []
          },
          "execution_count": 10
        }
      ]
    },
    {
      "cell_type": "code",
      "metadata": {
        "id": "dMl_0ygfxlsZ"
      },
      "source": [
        ""
      ],
      "execution_count": null,
      "outputs": []
    }
  ]
}